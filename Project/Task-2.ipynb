{
 "cells": [
  {
   "cell_type": "code",
   "execution_count": 1,
   "metadata": {
    "collapsed": true,
    "id": "6LRFnJRmAi9L"
   },
   "outputs": [
    {
     "name": "stdout",
     "output_type": "stream",
     "text": [
      "Requirement already satisfied: jsonlines in c:\\users\\vetsa tarun\\anaconda3\\lib\\site-packages (3.1.0)\n",
      "Requirement already satisfied: attrs>=19.2.0 in c:\\users\\vetsa tarun\\anaconda3\\lib\\site-packages (from jsonlines) (21.4.0)\n"
     ]
    },
    {
     "name": "stderr",
     "output_type": "stream",
     "text": [
      "\n",
      "[notice] A new release of pip is available: 23.0.1 -> 23.1\n",
      "[notice] To update, run: python.exe -m pip install --upgrade pip\n"
     ]
    },
    {
     "name": "stdout",
     "output_type": "stream",
     "text": [
      "Requirement already satisfied: transformers in c:\\users\\vetsa tarun\\anaconda3\\lib\\site-packages (4.28.1)\n",
      "Requirement already satisfied: filelock in c:\\users\\vetsa tarun\\anaconda3\\lib\\site-packages (from transformers) (3.6.0)\n",
      "Requirement already satisfied: huggingface-hub<1.0,>=0.11.0 in c:\\users\\vetsa tarun\\anaconda3\\lib\\site-packages (from transformers) (0.13.4)\n",
      "Requirement already satisfied: packaging>=20.0 in c:\\users\\vetsa tarun\\anaconda3\\lib\\site-packages (from transformers) (21.3)\n",
      "Requirement already satisfied: tqdm>=4.27 in c:\\users\\vetsa tarun\\anaconda3\\lib\\site-packages (from transformers) (4.64.0)\n",
      "Requirement already satisfied: tokenizers!=0.11.3,<0.14,>=0.11.1 in c:\\users\\vetsa tarun\\anaconda3\\lib\\site-packages (from transformers) (0.13.3)\n",
      "Requirement already satisfied: regex!=2019.12.17 in c:\\users\\vetsa tarun\\anaconda3\\lib\\site-packages (from transformers) (2022.3.15)\n",
      "Requirement already satisfied: requests in c:\\users\\vetsa tarun\\anaconda3\\lib\\site-packages (from transformers) (2.21.0)\n",
      "Requirement already satisfied: pyyaml>=5.1 in c:\\users\\vetsa tarun\\anaconda3\\lib\\site-packages (from transformers) (6.0)\n",
      "Requirement already satisfied: numpy>=1.17 in c:\\users\\vetsa tarun\\anaconda3\\lib\\site-packages (from transformers) (1.22.1)\n",
      "Requirement already satisfied: typing-extensions>=3.7.4.3 in c:\\users\\vetsa tarun\\anaconda3\\lib\\site-packages (from huggingface-hub<1.0,>=0.11.0->transformers) (4.5.0)\n",
      "Requirement already satisfied: pyparsing!=3.0.5,>=2.0.2 in c:\\users\\vetsa tarun\\anaconda3\\lib\\site-packages (from packaging>=20.0->transformers) (3.0.8)\n",
      "Requirement already satisfied: colorama in c:\\users\\vetsa tarun\\anaconda3\\lib\\site-packages (from tqdm>=4.27->transformers) (0.4.4)\n",
      "Requirement already satisfied: urllib3<1.25,>=1.21.1 in c:\\users\\vetsa tarun\\anaconda3\\lib\\site-packages (from requests->transformers) (1.24.3)\n",
      "Requirement already satisfied: certifi>=2017.4.17 in c:\\users\\vetsa tarun\\anaconda3\\lib\\site-packages (from requests->transformers) (2021.10.8)\n",
      "Requirement already satisfied: idna<2.9,>=2.5 in c:\\users\\vetsa tarun\\anaconda3\\lib\\site-packages (from requests->transformers) (2.8)\n",
      "Requirement already satisfied: chardet<3.1.0,>=3.0.2 in c:\\users\\vetsa tarun\\anaconda3\\lib\\site-packages (from requests->transformers) (3.0.4)\n"
     ]
    },
    {
     "name": "stderr",
     "output_type": "stream",
     "text": [
      "\n",
      "[notice] A new release of pip is available: 23.0.1 -> 23.1\n",
      "[notice] To update, run: python.exe -m pip install --upgrade pip\n"
     ]
    },
    {
     "name": "stdout",
     "output_type": "stream",
     "text": [
      "Requirement already satisfied: simpletransformers in c:\\users\\vetsa tarun\\anaconda3\\lib\\site-packages (0.63.9)\n",
      "Requirement already satisfied: sentencepiece in c:\\users\\vetsa tarun\\anaconda3\\lib\\site-packages (from simpletransformers) (0.1.98)\n",
      "Requirement already satisfied: requests in c:\\users\\vetsa tarun\\anaconda3\\lib\\site-packages (from simpletransformers) (2.21.0)\n",
      "Requirement already satisfied: datasets in c:\\users\\vetsa tarun\\anaconda3\\lib\\site-packages (from simpletransformers) (2.11.0)\n",
      "Requirement already satisfied: numpy in c:\\users\\vetsa tarun\\anaconda3\\lib\\site-packages (from simpletransformers) (1.22.1)\n",
      "Requirement already satisfied: transformers>=4.6.0 in c:\\users\\vetsa tarun\\anaconda3\\lib\\site-packages (from simpletransformers) (4.28.1)\n",
      "Requirement already satisfied: regex in c:\\users\\vetsa tarun\\anaconda3\\lib\\site-packages (from simpletransformers) (2022.3.15)\n",
      "Requirement already satisfied: scipy in c:\\users\\vetsa tarun\\anaconda3\\lib\\site-packages (from simpletransformers) (1.10.1)\n",
      "Requirement already satisfied: scikit-learn in c:\\users\\vetsa tarun\\anaconda3\\lib\\site-packages (from simpletransformers) (1.0.2)\n",
      "Requirement already satisfied: wandb>=0.10.32 in c:\\users\\vetsa tarun\\anaconda3\\lib\\site-packages (from simpletransformers) (0.15.0)\n",
      "Requirement already satisfied: streamlit in c:\\users\\vetsa tarun\\anaconda3\\lib\\site-packages (from simpletransformers) (1.21.0)\n",
      "Requirement already satisfied: tokenizers in c:\\users\\vetsa tarun\\anaconda3\\lib\\site-packages (from simpletransformers) (0.13.3)\n",
      "Requirement already satisfied: seqeval in c:\\users\\vetsa tarun\\anaconda3\\lib\\site-packages (from simpletransformers) (1.2.2)\n",
      "Requirement already satisfied: pandas in c:\\users\\vetsa tarun\\anaconda3\\lib\\site-packages (from simpletransformers) (1.5.3)\n",
      "Requirement already satisfied: tqdm>=4.47.0 in c:\\users\\vetsa tarun\\anaconda3\\lib\\site-packages (from simpletransformers) (4.64.0)\n",
      "Requirement already satisfied: tensorboard in c:\\users\\vetsa tarun\\anaconda3\\lib\\site-packages (from simpletransformers) (2.12.1)\n",
      "Requirement already satisfied: colorama in c:\\users\\vetsa tarun\\anaconda3\\lib\\site-packages (from tqdm>=4.47.0->simpletransformers) (0.4.4)\n",
      "Requirement already satisfied: filelock in c:\\users\\vetsa tarun\\anaconda3\\lib\\site-packages (from transformers>=4.6.0->simpletransformers) (3.6.0)\n",
      "Requirement already satisfied: huggingface-hub<1.0,>=0.11.0 in c:\\users\\vetsa tarun\\anaconda3\\lib\\site-packages (from transformers>=4.6.0->simpletransformers) (0.13.4)\n",
      "Requirement already satisfied: pyyaml>=5.1 in c:\\users\\vetsa tarun\\anaconda3\\lib\\site-packages (from transformers>=4.6.0->simpletransformers) (6.0)\n",
      "Requirement already satisfied: packaging>=20.0 in c:\\users\\vetsa tarun\\anaconda3\\lib\\site-packages (from transformers>=4.6.0->simpletransformers) (21.3)\n",
      "Requirement already satisfied: appdirs>=1.4.3 in c:\\users\\vetsa tarun\\anaconda3\\lib\\site-packages (from wandb>=0.10.32->simpletransformers) (1.4.4)\n",
      "Requirement already satisfied: pathtools in c:\\users\\vetsa tarun\\anaconda3\\lib\\site-packages (from wandb>=0.10.32->simpletransformers) (0.1.2)\n",
      "Requirement already satisfied: setproctitle in c:\\users\\vetsa tarun\\anaconda3\\lib\\site-packages (from wandb>=0.10.32->simpletransformers) (1.3.2)\n",
      "Requirement already satisfied: typing-extensions in c:\\users\\vetsa tarun\\anaconda3\\lib\\site-packages (from wandb>=0.10.32->simpletransformers) (4.5.0)\n",
      "Requirement already satisfied: psutil>=5.0.0 in c:\\users\\vetsa tarun\\anaconda3\\lib\\site-packages (from wandb>=0.10.32->simpletransformers) (5.8.0)\n",
      "Requirement already satisfied: Click!=8.0.0,>=7.0 in c:\\users\\vetsa tarun\\anaconda3\\lib\\site-packages (from wandb>=0.10.32->simpletransformers) (8.0.3)\n",
      "Requirement already satisfied: docker-pycreds>=0.4.0 in c:\\users\\vetsa tarun\\anaconda3\\lib\\site-packages (from wandb>=0.10.32->simpletransformers) (0.4.0)\n",
      "Requirement already satisfied: setuptools in c:\\users\\vetsa tarun\\anaconda3\\lib\\site-packages (from wandb>=0.10.32->simpletransformers) (61.2.0)\n",
      "Requirement already satisfied: protobuf!=4.21.0,<5,>=3.19.0 in c:\\users\\vetsa tarun\\anaconda3\\lib\\site-packages (from wandb>=0.10.32->simpletransformers) (3.20.3)\n",
      "Requirement already satisfied: GitPython!=3.1.29,>=1.0.0 in c:\\users\\vetsa tarun\\anaconda3\\lib\\site-packages (from wandb>=0.10.32->simpletransformers) (3.1.31)\n",
      "Requirement already satisfied: sentry-sdk>=1.0.0 in c:\\users\\vetsa tarun\\anaconda3\\lib\\site-packages (from wandb>=0.10.32->simpletransformers) (1.9.0)\n",
      "Requirement already satisfied: chardet<3.1.0,>=3.0.2 in c:\\users\\vetsa tarun\\anaconda3\\lib\\site-packages (from requests->simpletransformers) (3.0.4)\n",
      "Requirement already satisfied: certifi>=2017.4.17 in c:\\users\\vetsa tarun\\anaconda3\\lib\\site-packages (from requests->simpletransformers) (2021.10.8)\n",
      "Requirement already satisfied: urllib3<1.25,>=1.21.1 in c:\\users\\vetsa tarun\\anaconda3\\lib\\site-packages (from requests->simpletransformers) (1.24.3)\n",
      "Requirement already satisfied: idna<2.9,>=2.5 in c:\\users\\vetsa tarun\\anaconda3\\lib\\site-packages (from requests->simpletransformers) (2.8)\n",
      "Requirement already satisfied: responses<0.19 in c:\\users\\vetsa tarun\\anaconda3\\lib\\site-packages (from datasets->simpletransformers) (0.10.15)\n",
      "Requirement already satisfied: pyarrow>=8.0.0 in c:\\users\\vetsa tarun\\anaconda3\\lib\\site-packages (from datasets->simpletransformers) (11.0.0)\n",
      "Requirement already satisfied: xxhash in c:\\users\\vetsa tarun\\anaconda3\\lib\\site-packages (from datasets->simpletransformers) (3.2.0)\n",
      "Requirement already satisfied: multiprocess in c:\\users\\vetsa tarun\\anaconda3\\lib\\site-packages (from datasets->simpletransformers) (0.70.14)\n",
      "Requirement already satisfied: fsspec[http]>=2021.11.1 in c:\\users\\vetsa tarun\\anaconda3\\lib\\site-packages (from datasets->simpletransformers) (2022.2.0)\n",
      "Requirement already satisfied: aiohttp in c:\\users\\vetsa tarun\\anaconda3\\lib\\site-packages (from datasets->simpletransformers) (3.8.1)\n",
      "Requirement already satisfied: dill<0.3.7,>=0.3.0 in c:\\users\\vetsa tarun\\anaconda3\\lib\\site-packages (from datasets->simpletransformers) (0.3.6)\n",
      "Requirement already satisfied: pytz>=2020.1 in c:\\users\\vetsa tarun\\anaconda3\\lib\\site-packages (from pandas->simpletransformers) (2021.3)\n",
      "Requirement already satisfied: python-dateutil>=2.8.1 in c:\\users\\vetsa tarun\\anaconda3\\lib\\site-packages (from pandas->simpletransformers) (2.8.2)\n",
      "Requirement already satisfied: joblib>=0.11 in c:\\users\\vetsa tarun\\anaconda3\\lib\\site-packages (from scikit-learn->simpletransformers) (1.1.0)\n",
      "Requirement already satisfied: threadpoolctl>=2.0.0 in c:\\users\\vetsa tarun\\anaconda3\\lib\\site-packages (from scikit-learn->simpletransformers) (3.0.0)\n",
      "Requirement already satisfied: pydeck>=0.1.dev5 in c:\\users\\vetsa tarun\\anaconda3\\lib\\site-packages (from streamlit->simpletransformers) (0.8.1b0)\n",
      "Requirement already satisfied: importlib-metadata>=1.4 in c:\\users\\vetsa tarun\\anaconda3\\lib\\site-packages (from streamlit->simpletransformers) (4.11.3)\n",
      "Requirement already satisfied: tzlocal>=1.1 in c:\\users\\vetsa tarun\\anaconda3\\lib\\site-packages (from streamlit->simpletransformers) (4.3)\n",
      "Requirement already satisfied: blinker>=1.0.0 in c:\\users\\vetsa tarun\\anaconda3\\lib\\site-packages (from streamlit->simpletransformers) (1.6.2)\n",
      "Requirement already satisfied: toml in c:\\users\\vetsa tarun\\anaconda3\\lib\\site-packages (from streamlit->simpletransformers) (0.10.2)\n",
      "Requirement already satisfied: cachetools>=4.0 in c:\\users\\vetsa tarun\\anaconda3\\lib\\site-packages (from streamlit->simpletransformers) (4.2.2)\n",
      "Requirement already satisfied: validators>=0.2 in c:\\users\\vetsa tarun\\anaconda3\\lib\\site-packages (from streamlit->simpletransformers) (0.20.0)\n",
      "Requirement already satisfied: pympler>=0.9 in c:\\users\\vetsa tarun\\anaconda3\\lib\\site-packages (from streamlit->simpletransformers) (1.0.1)\n",
      "Requirement already satisfied: watchdog in c:\\users\\vetsa tarun\\anaconda3\\lib\\site-packages (from streamlit->simpletransformers) (2.1.6)\n",
      "Requirement already satisfied: altair<5,>=3.2.0 in c:\\users\\vetsa tarun\\anaconda3\\lib\\site-packages (from streamlit->simpletransformers) (4.2.2)\n",
      "Requirement already satisfied: rich>=10.11.0 in c:\\users\\vetsa tarun\\anaconda3\\lib\\site-packages (from streamlit->simpletransformers) (13.3.4)\n",
      "Requirement already satisfied: tornado>=6.0.3 in c:\\users\\vetsa tarun\\anaconda3\\lib\\site-packages (from streamlit->simpletransformers) (6.2)\n",
      "Requirement already satisfied: pillow>=6.2.0 in c:\\users\\vetsa tarun\\anaconda3\\lib\\site-packages (from streamlit->simpletransformers) (9.0.1)\n",
      "Requirement already satisfied: google-auth<3,>=1.6.3 in c:\\users\\vetsa tarun\\anaconda3\\lib\\site-packages (from tensorboard->simpletransformers) (2.17.3)\n",
      "Requirement already satisfied: google-auth-oauthlib<1.1,>=0.5 in c:\\users\\vetsa tarun\\anaconda3\\lib\\site-packages (from tensorboard->simpletransformers) (1.0.0)\n",
      "Requirement already satisfied: tensorboard-data-server<0.8.0,>=0.7.0 in c:\\users\\vetsa tarun\\anaconda3\\lib\\site-packages (from tensorboard->simpletransformers) (0.7.0)\n",
      "Requirement already satisfied: tensorboard-plugin-wit>=1.6.0 in c:\\users\\vetsa tarun\\anaconda3\\lib\\site-packages (from tensorboard->simpletransformers) (1.8.1)\n",
      "Requirement already satisfied: werkzeug>=1.0.1 in c:\\users\\vetsa tarun\\anaconda3\\lib\\site-packages (from tensorboard->simpletransformers) (2.0.2)\n",
      "Requirement already satisfied: wheel>=0.26 in c:\\users\\vetsa tarun\\anaconda3\\lib\\site-packages (from tensorboard->simpletransformers) (0.37.1)\n",
      "Requirement already satisfied: absl-py>=0.4 in c:\\users\\vetsa tarun\\anaconda3\\lib\\site-packages (from tensorboard->simpletransformers) (1.4.0)\n",
      "Requirement already satisfied: markdown>=2.6.8 in c:\\users\\vetsa tarun\\anaconda3\\lib\\site-packages (from tensorboard->simpletransformers) (3.3.4)\n",
      "Requirement already satisfied: grpcio>=1.48.2 in c:\\users\\vetsa tarun\\anaconda3\\lib\\site-packages (from tensorboard->simpletransformers) (1.53.0)\n",
      "Requirement already satisfied: jinja2 in c:\\users\\vetsa tarun\\anaconda3\\lib\\site-packages (from altair<5,>=3.2.0->streamlit->simpletransformers) (3.0.3)\n",
      "Requirement already satisfied: jsonschema>=3.0 in c:\\users\\vetsa tarun\\anaconda3\\lib\\site-packages (from altair<5,>=3.2.0->streamlit->simpletransformers) (4.4.0)\n",
      "Requirement already satisfied: toolz in c:\\users\\vetsa tarun\\anaconda3\\lib\\site-packages (from altair<5,>=3.2.0->streamlit->simpletransformers) (0.11.2)\n",
      "Requirement already satisfied: entrypoints in c:\\users\\vetsa tarun\\anaconda3\\lib\\site-packages (from altair<5,>=3.2.0->streamlit->simpletransformers) (0.4)\n",
      "Requirement already satisfied: six>=1.4.0 in c:\\users\\vetsa tarun\\anaconda3\\lib\\site-packages (from docker-pycreds>=0.4.0->wandb>=0.10.32->simpletransformers) (1.12.0)\n",
      "Requirement already satisfied: gitdb<5,>=4.0.1 in c:\\users\\vetsa tarun\\anaconda3\\lib\\site-packages (from GitPython!=3.1.29,>=1.0.0->wandb>=0.10.32->simpletransformers) (4.0.10)\n",
      "Requirement already satisfied: pyasn1-modules>=0.2.1 in c:\\users\\vetsa tarun\\anaconda3\\lib\\site-packages (from google-auth<3,>=1.6.3->tensorboard->simpletransformers) (0.2.8)\n",
      "Requirement already satisfied: rsa<5,>=3.1.4 in c:\\users\\vetsa tarun\\anaconda3\\lib\\site-packages (from google-auth<3,>=1.6.3->tensorboard->simpletransformers) (4.7.2)\n",
      "Requirement already satisfied: requests-oauthlib>=0.7.0 in c:\\users\\vetsa tarun\\anaconda3\\lib\\site-packages (from google-auth-oauthlib<1.1,>=0.5->tensorboard->simpletransformers) (1.3.1)\n",
      "Requirement already satisfied: zipp>=0.5 in c:\\users\\vetsa tarun\\anaconda3\\lib\\site-packages (from importlib-metadata>=1.4->streamlit->simpletransformers) (3.7.0)\n",
      "Requirement already satisfied: pyparsing!=3.0.5,>=2.0.2 in c:\\users\\vetsa tarun\\anaconda3\\lib\\site-packages (from packaging>=20.0->transformers>=4.6.0->simpletransformers) (3.0.8)\n",
      "Requirement already satisfied: pygments<3.0.0,>=2.13.0 in c:\\users\\vetsa tarun\\anaconda3\\lib\\site-packages (from rich>=10.11.0->streamlit->simpletransformers) (2.15.1)\n",
      "Requirement already satisfied: markdown-it-py<3.0.0,>=2.2.0 in c:\\users\\vetsa tarun\\anaconda3\\lib\\site-packages (from rich>=10.11.0->streamlit->simpletransformers) (2.2.0)\n",
      "Requirement already satisfied: pytz-deprecation-shim in c:\\users\\vetsa tarun\\anaconda3\\lib\\site-packages (from tzlocal>=1.1->streamlit->simpletransformers) (0.1.0.post0)\n",
      "Requirement already satisfied: tzdata in c:\\users\\vetsa tarun\\anaconda3\\lib\\site-packages (from tzlocal>=1.1->streamlit->simpletransformers) (2022.5)\n",
      "Requirement already satisfied: decorator>=3.4.0 in c:\\users\\vetsa tarun\\anaconda3\\lib\\site-packages (from validators>=0.2->streamlit->simpletransformers) (5.1.1)"
     ]
    },
    {
     "name": "stderr",
     "output_type": "stream",
     "text": [
      "\n",
      "[notice] A new release of pip is available: 23.0.1 -> 23.1\n",
      "[notice] To update, run: python.exe -m pip install --upgrade pip\n"
     ]
    },
    {
     "name": "stdout",
     "output_type": "stream",
     "text": [
      "\n",
      "Requirement already satisfied: yarl<2.0,>=1.0 in c:\\users\\vetsa tarun\\anaconda3\\lib\\site-packages (from aiohttp->datasets->simpletransformers) (1.6.3)\n",
      "Requirement already satisfied: charset-normalizer<3.0,>=2.0 in c:\\users\\vetsa tarun\\anaconda3\\lib\\site-packages (from aiohttp->datasets->simpletransformers) (2.0.4)\n",
      "Requirement already satisfied: async-timeout<5.0,>=4.0.0a3 in c:\\users\\vetsa tarun\\anaconda3\\lib\\site-packages (from aiohttp->datasets->simpletransformers) (4.0.2)\n",
      "Requirement already satisfied: multidict<7.0,>=4.5 in c:\\users\\vetsa tarun\\anaconda3\\lib\\site-packages (from aiohttp->datasets->simpletransformers) (5.1.0)\n",
      "Requirement already satisfied: aiosignal>=1.1.2 in c:\\users\\vetsa tarun\\anaconda3\\lib\\site-packages (from aiohttp->datasets->simpletransformers) (1.2.0)\n",
      "Requirement already satisfied: attrs>=17.3.0 in c:\\users\\vetsa tarun\\anaconda3\\lib\\site-packages (from aiohttp->datasets->simpletransformers) (21.4.0)\n",
      "Requirement already satisfied: frozenlist>=1.1.1 in c:\\users\\vetsa tarun\\anaconda3\\lib\\site-packages (from aiohttp->datasets->simpletransformers) (1.2.0)\n",
      "Requirement already satisfied: smmap<6,>=3.0.1 in c:\\users\\vetsa tarun\\anaconda3\\lib\\site-packages (from gitdb<5,>=4.0.1->GitPython!=3.1.29,>=1.0.0->wandb>=0.10.32->simpletransformers) (5.0.0)\n",
      "Requirement already satisfied: MarkupSafe>=2.0 in c:\\users\\vetsa tarun\\anaconda3\\lib\\site-packages (from jinja2->altair<5,>=3.2.0->streamlit->simpletransformers) (2.0.1)\n",
      "Requirement already satisfied: pyrsistent!=0.17.0,!=0.17.1,!=0.17.2,>=0.14.0 in c:\\users\\vetsa tarun\\anaconda3\\lib\\site-packages (from jsonschema>=3.0->altair<5,>=3.2.0->streamlit->simpletransformers) (0.18.0)\n",
      "Requirement already satisfied: mdurl~=0.1 in c:\\users\\vetsa tarun\\anaconda3\\lib\\site-packages (from markdown-it-py<3.0.0,>=2.2.0->rich>=10.11.0->streamlit->simpletransformers) (0.1.2)\n",
      "Requirement already satisfied: pyasn1<0.5.0,>=0.4.6 in c:\\users\\vetsa tarun\\anaconda3\\lib\\site-packages (from pyasn1-modules>=0.2.1->google-auth<3,>=1.6.3->tensorboard->simpletransformers) (0.4.8)\n",
      "Requirement already satisfied: oauthlib>=3.0.0 in c:\\users\\vetsa tarun\\anaconda3\\lib\\site-packages (from requests-oauthlib>=0.7.0->google-auth-oauthlib<1.1,>=0.5->tensorboard->simpletransformers) (3.2.2)\n"
     ]
    }
   ],
   "source": [
    "!pip install jsonlines\n",
    "!pip install transformers\n",
    "!pip install simpletransformers"
   ]
  },
  {
   "cell_type": "code",
   "execution_count": 1,
   "metadata": {
    "id": "h3QvZZk9BJbG"
   },
   "outputs": [],
   "source": [
    "import jsonlines\n",
    "import pandas as pd"
   ]
  },
  {
   "cell_type": "code",
   "execution_count": 2,
   "metadata": {
    "id": "DOnA_eA5GOwS"
   },
   "outputs": [],
   "source": [
    "# Reading train.jsonl file and creating dataframe\n",
    "dic_train =[]\n",
    "\n",
    "with jsonlines.open('train.jsonl') as f:\n",
    "    for line in f.iter():\n",
    "        dic_train.append(line)  \n",
    "\n",
    "columns  = dic_train[0].keys()        \n",
    "df_train = pd.DataFrame(columns=columns)\n",
    "\n",
    "for i in dic_train:\n",
    "    df_train.loc[len(df_train.index)] = list(i.values())"
   ]
  },
  {
   "cell_type": "code",
   "execution_count": 3,
   "metadata": {
    "id": "J14hWBxpHwxW"
   },
   "outputs": [
    {
     "data": {
      "text/html": [
       "<div>\n",
       "<style scoped>\n",
       "    .dataframe tbody tr th:only-of-type {\n",
       "        vertical-align: middle;\n",
       "    }\n",
       "\n",
       "    .dataframe tbody tr th {\n",
       "        vertical-align: top;\n",
       "    }\n",
       "\n",
       "    .dataframe thead th {\n",
       "        text-align: right;\n",
       "    }\n",
       "</style>\n",
       "<table border=\"1\" class=\"dataframe\">\n",
       "  <thead>\n",
       "    <tr style=\"text-align: right;\">\n",
       "      <th></th>\n",
       "      <th>uuid</th>\n",
       "      <th>postId</th>\n",
       "      <th>postText</th>\n",
       "      <th>postPlatform</th>\n",
       "      <th>targetParagraphs</th>\n",
       "      <th>targetTitle</th>\n",
       "      <th>targetDescription</th>\n",
       "      <th>targetKeywords</th>\n",
       "      <th>targetMedia</th>\n",
       "      <th>targetUrl</th>\n",
       "      <th>provenance</th>\n",
       "      <th>spoiler</th>\n",
       "      <th>spoilerPositions</th>\n",
       "      <th>tags</th>\n",
       "    </tr>\n",
       "  </thead>\n",
       "  <tbody>\n",
       "    <tr>\n",
       "      <th>0</th>\n",
       "      <td>0af11f6b-c889-4520-9372-66ba25cb7657</td>\n",
       "      <td>532quh</td>\n",
       "      <td>[Wes Welker Wanted Dinner With Tom Brady, But ...</td>\n",
       "      <td>reddit</td>\n",
       "      <td>[It’ll be just like old times this weekend for...</td>\n",
       "      <td>Wes Welker Wanted Dinner With Tom Brady, But P...</td>\n",
       "      <td>It'll be just like old times this weekend for ...</td>\n",
       "      <td>new england patriots, ricky doyle, top stories,</td>\n",
       "      <td>[http://pixel.wp.com/b.gif?v=noscript, http://...</td>\n",
       "      <td>http://nesn.com/2016/09/wes-welker-wanted-dinn...</td>\n",
       "      <td>{'source': 'anonymized', 'humanSpoiler': 'They...</td>\n",
       "      <td>[how about that morning we go throw?]</td>\n",
       "      <td>[[[3, 151], [3, 186]]]</td>\n",
       "      <td>[passage]</td>\n",
       "    </tr>\n",
       "  </tbody>\n",
       "</table>\n",
       "</div>"
      ],
      "text/plain": [
       "                                   uuid  postId  \\\n",
       "0  0af11f6b-c889-4520-9372-66ba25cb7657  532quh   \n",
       "\n",
       "                                            postText postPlatform  \\\n",
       "0  [Wes Welker Wanted Dinner With Tom Brady, But ...       reddit   \n",
       "\n",
       "                                    targetParagraphs  \\\n",
       "0  [It’ll be just like old times this weekend for...   \n",
       "\n",
       "                                         targetTitle  \\\n",
       "0  Wes Welker Wanted Dinner With Tom Brady, But P...   \n",
       "\n",
       "                                   targetDescription  \\\n",
       "0  It'll be just like old times this weekend for ...   \n",
       "\n",
       "                                    targetKeywords  \\\n",
       "0  new england patriots, ricky doyle, top stories,   \n",
       "\n",
       "                                         targetMedia  \\\n",
       "0  [http://pixel.wp.com/b.gif?v=noscript, http://...   \n",
       "\n",
       "                                           targetUrl  \\\n",
       "0  http://nesn.com/2016/09/wes-welker-wanted-dinn...   \n",
       "\n",
       "                                          provenance  \\\n",
       "0  {'source': 'anonymized', 'humanSpoiler': 'They...   \n",
       "\n",
       "                                 spoiler        spoilerPositions       tags  \n",
       "0  [how about that morning we go throw?]  [[[3, 151], [3, 186]]]  [passage]  "
      ]
     },
     "execution_count": 3,
     "metadata": {},
     "output_type": "execute_result"
    }
   ],
   "source": [
    "df_train.head(1)"
   ]
  },
  {
   "cell_type": "code",
   "execution_count": 6,
   "metadata": {},
   "outputs": [],
   "source": [
    "#Creating the format to train the model \n",
    "\n",
    "train = []\n",
    "for i in range(df_train.shape[0]):\n",
    "    entry = df_train.loc[i]\n",
    "    form = {}\n",
    "    form['context'] = ' '.join(entry['targetParagraphs'])\n",
    "    al = []\n",
    "    uuid = entry['uuid']\n",
    "    for j in range(len(entry['spoilerPositions'])):\n",
    "        ids = uuid +' '+ str(i)\n",
    "        is_impossible = False\n",
    "        question = entry['targetParagraphs'][entry['spoilerPositions'][j][0][0]]\n",
    "        answers = [{'text':entry['spoiler'][j], 'answer_start':form['context'].find(entry['spoiler'][j])}]\n",
    "        al.append({ 'id':ids,'is_impossible':is_impossible,'question':question,'answers':answers})\n",
    "\n",
    "\n",
    "    form['qas'] = al\n",
    "    train.append(form)"
   ]
  },
  {
   "cell_type": "code",
   "execution_count": 7,
   "metadata": {
    "id": "tyjm2BrHH2O_"
   },
   "outputs": [],
   "source": [
    "# Reading validation.jsonl file and creating dataframe\n",
    "dic_valid =[]\n",
    "\n",
    "with jsonlines.open('validation.jsonl') as f:\n",
    "    for line in f.iter():\n",
    "        dic_valid.append(line)\n",
    "columns  = dic_valid[0].keys()\n",
    "df_valid = pd.DataFrame(columns=columns)\n",
    "\n",
    "for i in dic_valid:\n",
    "    df_valid.loc[len(df_valid.index)] = list(i.values())"
   ]
  },
  {
   "cell_type": "code",
   "execution_count": 8,
   "metadata": {
    "id": "W3MQC0G-IE6f"
   },
   "outputs": [
    {
     "data": {
      "text/html": [
       "<div>\n",
       "<style scoped>\n",
       "    .dataframe tbody tr th:only-of-type {\n",
       "        vertical-align: middle;\n",
       "    }\n",
       "\n",
       "    .dataframe tbody tr th {\n",
       "        vertical-align: top;\n",
       "    }\n",
       "\n",
       "    .dataframe thead th {\n",
       "        text-align: right;\n",
       "    }\n",
       "</style>\n",
       "<table border=\"1\" class=\"dataframe\">\n",
       "  <thead>\n",
       "    <tr style=\"text-align: right;\">\n",
       "      <th></th>\n",
       "      <th>uuid</th>\n",
       "      <th>postId</th>\n",
       "      <th>postText</th>\n",
       "      <th>postPlatform</th>\n",
       "      <th>targetParagraphs</th>\n",
       "      <th>targetTitle</th>\n",
       "      <th>targetDescription</th>\n",
       "      <th>targetKeywords</th>\n",
       "      <th>targetMedia</th>\n",
       "      <th>targetUrl</th>\n",
       "      <th>provenance</th>\n",
       "      <th>spoiler</th>\n",
       "      <th>spoilerPositions</th>\n",
       "      <th>tags</th>\n",
       "    </tr>\n",
       "  </thead>\n",
       "  <tbody>\n",
       "    <tr>\n",
       "      <th>0</th>\n",
       "      <td>6dc7ddef-4e8e-4a6b-9296-526377518071</td>\n",
       "      <td>800048986762423_885081814925806</td>\n",
       "      <td>[Five Nights at Freddy’s Sequel Delayed for We...</td>\n",
       "      <td>Facebook</td>\n",
       "      <td>[Five Nights at Freddy’s creator Scott Cawthon...</td>\n",
       "      <td>Five Nights at Freddy’s Sequel Delayed for Wei...</td>\n",
       "      <td>Five Nights at Freddy's creator Scott Cawthon ...</td>\n",
       "      <td>None</td>\n",
       "      <td>[https://gamerant.com/wp-content/uploads/five-...</td>\n",
       "      <td>https://gamerant.com/five-nights-at-freddys-se...</td>\n",
       "      <td>{'source': 'anonymized', 'humanSpoiler': 'They...</td>\n",
       "      <td>[some of the plot elements are so disturbing t...</td>\n",
       "      <td>[[[2, 158], [2, 236]]]</td>\n",
       "      <td>[passage]</td>\n",
       "    </tr>\n",
       "  </tbody>\n",
       "</table>\n",
       "</div>"
      ],
      "text/plain": [
       "                                   uuid                           postId  \\\n",
       "0  6dc7ddef-4e8e-4a6b-9296-526377518071  800048986762423_885081814925806   \n",
       "\n",
       "                                            postText postPlatform  \\\n",
       "0  [Five Nights at Freddy’s Sequel Delayed for We...     Facebook   \n",
       "\n",
       "                                    targetParagraphs  \\\n",
       "0  [Five Nights at Freddy’s creator Scott Cawthon...   \n",
       "\n",
       "                                         targetTitle  \\\n",
       "0  Five Nights at Freddy’s Sequel Delayed for Wei...   \n",
       "\n",
       "                                   targetDescription targetKeywords  \\\n",
       "0  Five Nights at Freddy's creator Scott Cawthon ...           None   \n",
       "\n",
       "                                         targetMedia  \\\n",
       "0  [https://gamerant.com/wp-content/uploads/five-...   \n",
       "\n",
       "                                           targetUrl  \\\n",
       "0  https://gamerant.com/five-nights-at-freddys-se...   \n",
       "\n",
       "                                          provenance  \\\n",
       "0  {'source': 'anonymized', 'humanSpoiler': 'They...   \n",
       "\n",
       "                                             spoiler        spoilerPositions  \\\n",
       "0  [some of the plot elements are so disturbing t...  [[[2, 158], [2, 236]]]   \n",
       "\n",
       "        tags  \n",
       "0  [passage]  "
      ]
     },
     "execution_count": 8,
     "metadata": {},
     "output_type": "execute_result"
    }
   ],
   "source": [
    "df_valid.head(1)"
   ]
  },
  {
   "cell_type": "code",
   "execution_count": 9,
   "metadata": {},
   "outputs": [],
   "source": [
    "valid = []\n",
    "for i in range(df_valid.shape[0]):\n",
    "    entry = df_valid.loc[i]\n",
    "    form = {}\n",
    "    form['context'] = ' '.join(entry['targetParagraphs'])\n",
    "    al = []\n",
    "    uuid = entry['uuid']\n",
    "    for j in range(len(entry['spoilerPositions'])):\n",
    "        ids = uuid +' '+ str(i)\n",
    "        is_impossible = False\n",
    "        question = entry['targetParagraphs'][entry['spoilerPositions'][j][0][0]]\n",
    "        answers = [{'text':entry['spoiler'][j], 'answer_start':form['context'].find(entry['spoiler'][j])}]\n",
    "        al.append({ 'id':ids,'is_impossible':is_impossible,'question':question,'answers':answers})\n",
    "\n",
    "    form['qas'] = al\n",
    "    valid.append(form)"
   ]
  },
  {
   "cell_type": "code",
   "execution_count": 8,
   "metadata": {
    "id": "yDIsQbDrIHR7"
   },
   "outputs": [],
   "source": [
    "import torch\n",
    "from transformers import pipeline"
   ]
  },
  {
   "cell_type": "code",
   "execution_count": 9,
   "metadata": {
    "id": "dr7bY-zjIQS_"
   },
   "outputs": [
    {
     "name": "stderr",
     "output_type": "stream",
     "text": [
      "No model was supplied, defaulted to distilbert-base-cased-distilled-squad and revision 626af31 (https://huggingface.co/distilbert-base-cased-distilled-squad).\n",
      "Using a pipeline without specifying a model name and revision in production is not recommended.\n"
     ]
    },
    {
     "data": {
      "application/vnd.jupyter.widget-view+json": {
       "model_id": "b6391814a6a84644a6e0e60336695aa4",
       "version_major": 2,
       "version_minor": 0
      },
      "text/plain": [
       "Downloading (…)lve/main/config.json:   0%|          | 0.00/473 [00:00<?, ?B/s]"
      ]
     },
     "metadata": {},
     "output_type": "display_data"
    },
    {
     "name": "stderr",
     "output_type": "stream",
     "text": [
      "C:\\Users\\VETSA TARUN\\anaconda3\\lib\\site-packages\\huggingface_hub\\file_download.py:133: UserWarning: `huggingface_hub` cache-system uses symlinks by default to efficiently store duplicated files but your machine does not support them in C:\\Users\\VETSA TARUN\\.cache\\huggingface\\hub. Caching files will still work but in a degraded version that might require more space on your disk. This warning can be disabled by setting the `HF_HUB_DISABLE_SYMLINKS_WARNING` environment variable. For more details, see https://huggingface.co/docs/huggingface_hub/how-to-cache#limitations.\n",
      "To support symlinks on Windows, you either need to activate Developer Mode or to run Python as an administrator. In order to see activate developer mode, see this article: https://docs.microsoft.com/en-us/windows/apps/get-started/enable-your-device-for-development\n",
      "  warnings.warn(message)\n"
     ]
    },
    {
     "data": {
      "application/vnd.jupyter.widget-view+json": {
       "model_id": "bb81193a849f48c4b601a214bb2479f0",
       "version_major": 2,
       "version_minor": 0
      },
      "text/plain": [
       "Downloading pytorch_model.bin:   0%|          | 0.00/261M [00:00<?, ?B/s]"
      ]
     },
     "metadata": {},
     "output_type": "display_data"
    },
    {
     "data": {
      "application/vnd.jupyter.widget-view+json": {
       "model_id": "c6d47e34de7f49e6adb49d569bea51a3",
       "version_major": 2,
       "version_minor": 0
      },
      "text/plain": [
       "Downloading (…)okenizer_config.json:   0%|          | 0.00/29.0 [00:00<?, ?B/s]"
      ]
     },
     "metadata": {},
     "output_type": "display_data"
    },
    {
     "data": {
      "application/vnd.jupyter.widget-view+json": {
       "model_id": "0cb8bd20a89641d79cab5a1da9864c6a",
       "version_major": 2,
       "version_minor": 0
      },
      "text/plain": [
       "Downloading (…)solve/main/vocab.txt:   0%|          | 0.00/213k [00:00<?, ?B/s]"
      ]
     },
     "metadata": {},
     "output_type": "display_data"
    },
    {
     "data": {
      "application/vnd.jupyter.widget-view+json": {
       "model_id": "275781ea87f74267b43cd2e6a13ad5da",
       "version_major": 2,
       "version_minor": 0
      },
      "text/plain": [
       "Downloading (…)/main/tokenizer.json:   0%|          | 0.00/436k [00:00<?, ?B/s]"
      ]
     },
     "metadata": {},
     "output_type": "display_data"
    }
   ],
   "source": [
    "question_answering = pipeline(\"question-answering\")"
   ]
  },
  {
   "cell_type": "code",
   "execution_count": 10,
   "metadata": {
    "id": "AQvrItTAIZGr"
   },
   "outputs": [],
   "source": []
  },
  {
   "cell_type": "code",
   "execution_count": 13,
   "metadata": {
    "id": "-VCM8-T_JEny"
   },
   "outputs": [],
   "source": []
  },
  {
   "cell_type": "code",
   "execution_count": 14,
   "metadata": {
    "id": "HmTk0a_iZ20k"
   },
   "outputs": [
    {
     "data": {
      "application/vnd.jupyter.widget-view+json": {
       "model_id": "48acb2fafc9a420d9892d840d24be006",
       "version_major": 2,
       "version_minor": 0
      },
      "text/plain": [
       "Downloading (…)solve/main/vocab.txt:   0%|          | 0.00/232k [00:00<?, ?B/s]"
      ]
     },
     "metadata": {},
     "output_type": "display_data"
    },
    {
     "data": {
      "application/vnd.jupyter.widget-view+json": {
       "model_id": "587233cb11b249eea137cd1372e87a23",
       "version_major": 2,
       "version_minor": 0
      },
      "text/plain": [
       "Downloading (…)okenizer_config.json:   0%|          | 0.00/28.0 [00:00<?, ?B/s]"
      ]
     },
     "metadata": {},
     "output_type": "display_data"
    },
    {
     "data": {
      "application/vnd.jupyter.widget-view+json": {
       "model_id": "c2c4171c8e4f4f57876d99f45cb9a056",
       "version_major": 2,
       "version_minor": 0
      },
      "text/plain": [
       "Downloading (…)lve/main/config.json:   0%|          | 0.00/483 [00:00<?, ?B/s]"
      ]
     },
     "metadata": {},
     "output_type": "display_data"
    },
    {
     "data": {
      "application/vnd.jupyter.widget-view+json": {
       "model_id": "39517a0c7cfb4324baeebbcf57dc0b6a",
       "version_major": 2,
       "version_minor": 0
      },
      "text/plain": [
       "Downloading pytorch_model.bin:   0%|          | 0.00/268M [00:00<?, ?B/s]"
      ]
     },
     "metadata": {},
     "output_type": "display_data"
    },
    {
     "name": "stderr",
     "output_type": "stream",
     "text": [
      "Some weights of the model checkpoint at distilbert-base-uncased were not used when initializing DistilBertForQuestionAnswering: ['vocab_transform.bias', 'vocab_layer_norm.bias', 'vocab_layer_norm.weight', 'vocab_transform.weight', 'vocab_projector.bias', 'vocab_projector.weight']\n",
      "- This IS expected if you are initializing DistilBertForQuestionAnswering from the checkpoint of a model trained on another task or with another architecture (e.g. initializing a BertForSequenceClassification model from a BertForPreTraining model).\n",
      "- This IS NOT expected if you are initializing DistilBertForQuestionAnswering from the checkpoint of a model that you expect to be exactly identical (initializing a BertForSequenceClassification model from a BertForSequenceClassification model).\n",
      "Some weights of DistilBertForQuestionAnswering were not initialized from the model checkpoint at distilbert-base-uncased and are newly initialized: ['qa_outputs.bias', 'qa_outputs.weight']\n",
      "You should probably TRAIN this model on a down-stream task to be able to use it for predictions and inference.\n",
      "Some weights of the model checkpoint at distilbert-base-uncased were not used when initializing DistilBertForQuestionAnswering: ['vocab_transform.bias', 'vocab_layer_norm.bias', 'vocab_layer_norm.weight', 'vocab_transform.weight', 'vocab_projector.bias', 'vocab_projector.weight']\n",
      "- This IS expected if you are initializing DistilBertForQuestionAnswering from the checkpoint of a model trained on another task or with another architecture (e.g. initializing a BertForSequenceClassification model from a BertForPreTraining model).\n",
      "- This IS NOT expected if you are initializing DistilBertForQuestionAnswering from the checkpoint of a model that you expect to be exactly identical (initializing a BertForSequenceClassification model from a BertForSequenceClassification model).\n",
      "Some weights of DistilBertForQuestionAnswering were not initialized from the model checkpoint at distilbert-base-uncased and are newly initialized: ['qa_outputs.bias', 'qa_outputs.weight']\n",
      "You should probably TRAIN this model on a down-stream task to be able to use it for predictions and inference.\n"
     ]
    }
   ],
   "source": [
    "import logging\n",
    "from transformers import DistilBertTokenizer, DistilBertForQuestionAnswering\n",
    "from simpletransformers.question_answering import QuestionAnsweringModel, QuestionAnsweringArgs\n",
    "\n",
    "tokenizer = DistilBertTokenizer.from_pretrained('distilbert-base-uncased')\n",
    "model = DistilBertForQuestionAnswering.from_pretrained('distilbert-base-uncased')\n",
    "\n",
    "logging.basicConfig(level=logging.INFO)\n",
    "transformers_logger = logging.getLogger(\"transformers\")\n",
    "transformers_logger.setLevel(logging.WARNING)\n",
    "\n",
    "args = QuestionAnsweringArgs()\n",
    "args.train_batch_size = 16\n",
    "args.evaluate_during_training = True\n",
    "args.evaluate_during_training_steps = 1000\n",
    "args.save_steps = -1\n",
    "\n",
    "# Initialize the QuestionAnsweringModel\n",
    "model = QuestionAnsweringModel(\n",
    "    'distilbert', \n",
    "    'distilbert-base-uncased', \n",
    "    args=args,\n",
    "    use_cuda=False\n",
    ")\n"
   ]
  },
  {
   "cell_type": "code",
   "execution_count": 16,
   "metadata": {},
   "outputs": [],
   "source": [
    "import shutil\n",
    "import os\n",
    "\n",
    "# specify the directory to delete\n",
    "output_dir = 'outputs/'\n",
    "\n",
    "# delete the directory and its contents\n",
    "shutil.rmtree(output_dir)\n",
    "\n",
    "# create a new output directory\n",
    "os.mkdir(output_dir)\n"
   ]
  },
  {
   "cell_type": "code",
   "execution_count": 17,
   "metadata": {
    "id": "ImUzIZ9QZ2nR"
   },
   "outputs": [
    {
     "name": "stderr",
     "output_type": "stream",
     "text": [
      "INFO:simpletransformers.question_answering.question_answering_model: Converting to features started.\n",
      "convert squad examples to features: 100%|██████████████████████████████████████████| 4622/4622 [01:17<00:00, 59.43it/s]\n",
      "add example index and unique id: 100%|█████████████████████████████████████████| 4622/4622 [00:00<00:00, 278167.84it/s]\n"
     ]
    },
    {
     "data": {
      "application/vnd.jupyter.widget-view+json": {
       "model_id": "f29245aa6ae5462d8988b745250e00b7",
       "version_major": 2,
       "version_minor": 0
      },
      "text/plain": [
       "Epoch:   0%|          | 0/1 [00:00<?, ?it/s]"
      ]
     },
     "metadata": {},
     "output_type": "display_data"
    },
    {
     "data": {
      "application/vnd.jupyter.widget-view+json": {
       "model_id": "3604f4c18a4647b39c06d9904895a020",
       "version_major": 2,
       "version_minor": 0
      },
      "text/plain": [
       "Running Epoch 0 of 1:   0%|          | 0/729 [00:00<?, ?it/s]"
      ]
     },
     "metadata": {},
     "output_type": "display_data"
    },
    {
     "name": "stderr",
     "output_type": "stream",
     "text": [
      "INFO:simpletransformers.question_answering.question_answering_model: Converting to features started.\n",
      "\n",
      "convert squad examples to features:   0%|                                                     | 0/1192 [00:00<?, ?it/s]\u001b[A\n",
      "convert squad examples to features: 100%|██████████████████████████████████████████| 1192/1192 [00:27<00:00, 43.92it/s]\u001b[A\n",
      "\n",
      "add example index and unique id: 100%|██████████████████████████████████████████| 1192/1192 [00:00<00:00, 62854.18it/s]\u001b[A\n"
     ]
    },
    {
     "data": {
      "application/vnd.jupyter.widget-view+json": {
       "model_id": "77fb5b5e9a8b46d78116035bc42585e4",
       "version_major": 2,
       "version_minor": 0
      },
      "text/plain": [
       "Running Evaluation:   0%|          | 0/408 [00:00<?, ?it/s]"
      ]
     },
     "metadata": {},
     "output_type": "display_data"
    },
    {
     "name": "stderr",
     "output_type": "stream",
     "text": [
      "INFO:simpletransformers.question_answering.question_answering_model: Training of distilbert model complete. Saved to outputs/.\n"
     ]
    },
    {
     "data": {
      "text/plain": [
       "(729,\n",
       " {'global_step': [729],\n",
       "  'correct': [35],\n",
       "  'similar': [620],\n",
       "  'incorrect': [145],\n",
       "  'train_loss': [0.0022680554538965225],\n",
       "  'eval_loss': [-5.345833968298108]})"
      ]
     },
     "execution_count": 17,
     "metadata": {},
     "output_type": "execute_result"
    }
   ],
   "source": [
    "model.train_model(train, eval_data=valid)"
   ]
  },
  {
   "cell_type": "code",
   "execution_count": 18,
   "metadata": {
    "id": "5wG5DCFMUzhJ"
   },
   "outputs": [
    {
     "name": "stderr",
     "output_type": "stream",
     "text": [
      "INFO:simpletransformers.question_answering.question_answering_model: Converting to features started.\n",
      "convert squad examples to features: 100%|██████████████████████████████████████████| 1192/1192 [00:27<00:00, 43.57it/s]\n",
      "add example index and unique id: 100%|█████████████████████████████████████████████████████| 1192/1192 [00:00<?, ?it/s]\n"
     ]
    },
    {
     "data": {
      "application/vnd.jupyter.widget-view+json": {
       "model_id": "6e18a5e785b543e0afd171f408f3f9ec",
       "version_major": 2,
       "version_minor": 0
      },
      "text/plain": [
       "Running Evaluation:   0%|          | 0/408 [00:00<?, ?it/s]"
      ]
     },
     "metadata": {},
     "output_type": "display_data"
    }
   ],
   "source": [
    "# Evaluate the model\n",
    "fin_res, _ = model.eval_model(valid)"
   ]
  },
  {
   "cell_type": "code",
   "execution_count": 21,
   "metadata": {
    "id": "Zi-ZhPaBkqcl"
   },
   "outputs": [
    {
     "name": "stdout",
     "output_type": "stream",
     "text": [
      "Final Result: {'correct': 35, 'similar': 620, 'incorrect': 145, 'eval_loss': -5.345833968298108}\n"
     ]
    }
   ],
   "source": [
    "print('Final Result:',fin_res )"
   ]
  },
  {
   "cell_type": "code",
   "execution_count": 19,
   "metadata": {},
   "outputs": [
    {
     "name": "stdout",
     "output_type": "stream",
     "text": [
      "ACCURACY: 81.875 %\n"
     ]
    }
   ],
   "source": [
    "print('ACCURACY:',((fin_res[0]+finres[1])/(fin_res[0]+fin_res[1]+fin_res[2]))*100,'%')"
   ]
  },
  {
   "cell_type": "code",
   "execution_count": 20,
   "metadata": {
    "id": "A1ULF8FlkslG"
   },
   "outputs": [
    {
     "name": "stderr",
     "output_type": "stream",
     "text": [
      "INFO:simpletransformers.question_answering.question_answering_model: Converting to features started.\n",
      "convert squad examples to features: 100%|██████████████████████████████████████████| 1192/1192 [00:24<00:00, 49.44it/s]\n",
      "add example index and unique id: 100%|█████████████████████████████████████████| 1192/1192 [00:00<00:00, 138309.46it/s]\n"
     ]
    },
    {
     "data": {
      "application/vnd.jupyter.widget-view+json": {
       "model_id": "0dc893007e544250adb632f7a258fdd4",
       "version_major": 2,
       "version_minor": 0
      },
      "text/plain": [
       "Running Prediction:   0%|          | 0/408 [00:00<?, ?it/s]"
      ]
     },
     "metadata": {},
     "output_type": "display_data"
    }
   ],
   "source": [
    "all_ans, prob = model.predict(valid)"
   ]
  },
  {
   "cell_type": "code",
   "execution_count": 21,
   "metadata": {
    "id": "nIGLLOSokvvf"
   },
   "outputs": [],
   "source": [
    "# Extracting final prediction based on all probabilities of all answers\n",
    "\n",
    "predicted =[]\n",
    "a = all_ans[0]['id'].split()[0]\n",
    "\n",
    "if all_ans[0]['answer'][0] =='':\n",
    "    pred = [all_ans[0]['answer'][1]]\n",
    "else:\n",
    "    pred = [all_ans[0]['answer'][0]]  \n",
    "\n",
    "for id in all_ans[1:]:  \n",
    "    if a == id['id'].split()[0]:\n",
    "        if id['answer'][0] =='':\n",
    "            pred.extend([id['answer'][1]])\n",
    "        else:  \n",
    "            pred.extend([id['answer'][0]])  \n",
    "    else:\n",
    "        predicted.append(pred)\n",
    "        if id['answer'][0]=='':\n",
    "            pred = [id['answer'][1]]\n",
    "        else:\n",
    "            pred = [id['answer'][0]]\n",
    "\n",
    "    a = id['id'].split()[0] \n",
    "predicted.append(pred)  \n"
   ]
  },
  {
   "cell_type": "code",
   "execution_count": 22,
   "metadata": {
    "id": "byPbkG59qRjc"
   },
   "outputs": [],
   "source": [
    "fin_out={'uuid':list(df_valid['uuid']),'Predicted_spoiler':predicted}"
   ]
  },
  {
   "cell_type": "code",
   "execution_count": 23,
   "metadata": {
    "id": "C_JGDJK5sV9Z"
   },
   "outputs": [],
   "source": [
    "fin_df=pd.DataFrame(fin_out)"
   ]
  },
  {
   "cell_type": "code",
   "execution_count": 24,
   "metadata": {},
   "outputs": [
    {
     "data": {
      "text/html": [
       "<div>\n",
       "<style scoped>\n",
       "    .dataframe tbody tr th:only-of-type {\n",
       "        vertical-align: middle;\n",
       "    }\n",
       "\n",
       "    .dataframe tbody tr th {\n",
       "        vertical-align: top;\n",
       "    }\n",
       "\n",
       "    .dataframe thead th {\n",
       "        text-align: right;\n",
       "    }\n",
       "</style>\n",
       "<table border=\"1\" class=\"dataframe\">\n",
       "  <thead>\n",
       "    <tr style=\"text-align: right;\">\n",
       "      <th></th>\n",
       "      <th>uuid</th>\n",
       "      <th>Predicted_spoiler</th>\n",
       "    </tr>\n",
       "  </thead>\n",
       "  <tbody>\n",
       "    <tr>\n",
       "      <th>0</th>\n",
       "      <td>6dc7ddef-4e8e-4a6b-9296-526377518071</td>\n",
       "      <td>[Five Nights]</td>\n",
       "    </tr>\n",
       "    <tr>\n",
       "      <th>1</th>\n",
       "      <td>435b24de-56f6-4d4e-9c38-54b8e0630aac</td>\n",
       "      <td>[© REUTERS/Laura Segall Maricopa County Sherif...</td>\n",
       "    </tr>\n",
       "    <tr>\n",
       "      <th>2</th>\n",
       "      <td>8091ba93-6376-473a-9117-01d6cf0507e4</td>\n",
       "      <td>[hairdresserMore Remembering how much you’re s...</td>\n",
       "    </tr>\n",
       "    <tr>\n",
       "      <th>3</th>\n",
       "      <td>8b713277-0e5b-4873-a216-b650f21f3b4c</td>\n",
       "      <td>[CBGB. Opened in 1973 in downtown Manhattan's ...</td>\n",
       "    </tr>\n",
       "    <tr>\n",
       "      <th>4</th>\n",
       "      <td>a2f91b65-c36c-481f-92b1-2fc77d6411fc</td>\n",
       "      <td>[Also, they just ran a story about a man who s...</td>\n",
       "    </tr>\n",
       "    <tr>\n",
       "      <th>...</th>\n",
       "      <td>...</td>\n",
       "      <td>...</td>\n",
       "    </tr>\n",
       "    <tr>\n",
       "      <th>795</th>\n",
       "      <td>1189d343-42eb-47e7-8395-ff978a683875</td>\n",
       "      <td>[hotel cleaner]</td>\n",
       "    </tr>\n",
       "    <tr>\n",
       "      <th>796</th>\n",
       "      <td>7912282b-137b-4098-875d-8ad9f19354a8</td>\n",
       "      <td>[Christopher Suprun,]</td>\n",
       "    </tr>\n",
       "    <tr>\n",
       "      <th>797</th>\n",
       "      <td>1fdf71e8-ec14-4c3b-a7c5-ca678c6f8ccb</td>\n",
       "      <td>[What]</td>\n",
       "    </tr>\n",
       "    <tr>\n",
       "      <th>798</th>\n",
       "      <td>17f6b540-cf8d-4ddf-8321-1c9ce2315d71</td>\n",
       "      <td>[Julian Assange’s internet link has been inten...</td>\n",
       "    </tr>\n",
       "    <tr>\n",
       "      <th>799</th>\n",
       "      <td>89dcad77-d8ad-4705-8676-717b26fda2ad</td>\n",
       "      <td>[Richard Belzer]</td>\n",
       "    </tr>\n",
       "  </tbody>\n",
       "</table>\n",
       "<p>800 rows × 2 columns</p>\n",
       "</div>"
      ],
      "text/plain": [
       "                                     uuid  \\\n",
       "0    6dc7ddef-4e8e-4a6b-9296-526377518071   \n",
       "1    435b24de-56f6-4d4e-9c38-54b8e0630aac   \n",
       "2    8091ba93-6376-473a-9117-01d6cf0507e4   \n",
       "3    8b713277-0e5b-4873-a216-b650f21f3b4c   \n",
       "4    a2f91b65-c36c-481f-92b1-2fc77d6411fc   \n",
       "..                                    ...   \n",
       "795  1189d343-42eb-47e7-8395-ff978a683875   \n",
       "796  7912282b-137b-4098-875d-8ad9f19354a8   \n",
       "797  1fdf71e8-ec14-4c3b-a7c5-ca678c6f8ccb   \n",
       "798  17f6b540-cf8d-4ddf-8321-1c9ce2315d71   \n",
       "799  89dcad77-d8ad-4705-8676-717b26fda2ad   \n",
       "\n",
       "                                     Predicted_spoiler  \n",
       "0                                        [Five Nights]  \n",
       "1    [© REUTERS/Laura Segall Maricopa County Sherif...  \n",
       "2    [hairdresserMore Remembering how much you’re s...  \n",
       "3    [CBGB. Opened in 1973 in downtown Manhattan's ...  \n",
       "4    [Also, they just ran a story about a man who s...  \n",
       "..                                                 ...  \n",
       "795                                    [hotel cleaner]  \n",
       "796                              [Christopher Suprun,]  \n",
       "797                                             [What]  \n",
       "798  [Julian Assange’s internet link has been inten...  \n",
       "799                                   [Richard Belzer]  \n",
       "\n",
       "[800 rows x 2 columns]"
      ]
     },
     "execution_count": 24,
     "metadata": {},
     "output_type": "execute_result"
    }
   ],
   "source": [
    "fin_df"
   ]
  },
  {
   "cell_type": "code",
   "execution_count": null,
   "metadata": {},
   "outputs": [],
   "source": []
  }
 ],
 "metadata": {
  "accelerator": "GPU",
  "colab": {
   "private_outputs": true,
   "provenance": []
  },
  "gpuClass": "standard",
  "kernelspec": {
   "display_name": "Python 3 (ipykernel)",
   "language": "python",
   "name": "python3"
  },
  "language_info": {
   "codemirror_mode": {
    "name": "ipython",
    "version": 3
   },
   "file_extension": ".py",
   "mimetype": "text/x-python",
   "name": "python",
   "nbconvert_exporter": "python",
   "pygments_lexer": "ipython3",
   "version": "3.9.12"
  }
 },
 "nbformat": 4,
 "nbformat_minor": 1
}
